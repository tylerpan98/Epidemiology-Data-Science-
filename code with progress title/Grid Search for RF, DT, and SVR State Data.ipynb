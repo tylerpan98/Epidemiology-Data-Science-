{
 "cells": [
  {
   "cell_type": "code",
   "execution_count": 43,
   "id": "97738363",
   "metadata": {},
   "outputs": [],
   "source": [
    "import pandas as pd\n",
    "import numpy as np\n",
    "import matplotlib.pyplot as plt\n",
    "from xgboost import XGBRegressor\n",
    "from xgboost import plot_importance\n",
    "from sklearn.ensemble import RandomForestRegressor\n",
    "from sklearn.model_selection import GroupShuffleSplit, GroupKFold, GridSearchCV, cross_val_score\n",
    "from sklearn import metrics\n",
    "import seaborn as sns\n",
    "from sklearn.metrics import mean_absolute_error, mean_squared_error\n",
    "import math\n",
    "from xgboost import plot_importance\n",
    "from matplotlib import pyplot\n",
    "from sklearn.tree import DecisionTreeRegressor, ExtraTreeRegressor, plot_tree\n",
    "from sklearn.pipeline import make_pipeline"
   ]
  },
  {
   "cell_type": "code",
   "execution_count": 2,
   "id": "b3444ab6",
   "metadata": {},
   "outputs": [],
   "source": [
    "#read in state data\n",
    "df=pd.read_csv(\"Downloads/AllDataStateFinalFinalFinal.csv\")"
   ]
  },
  {
   "cell_type": "code",
   "execution_count": 3,
   "id": "cf1de72c",
   "metadata": {},
   "outputs": [
    {
     "data": {
      "text/html": [
       "<div>\n",
       "<style scoped>\n",
       "    .dataframe tbody tr th:only-of-type {\n",
       "        vertical-align: middle;\n",
       "    }\n",
       "\n",
       "    .dataframe tbody tr th {\n",
       "        vertical-align: top;\n",
       "    }\n",
       "\n",
       "    .dataframe thead th {\n",
       "        text-align: right;\n",
       "    }\n",
       "</style>\n",
       "<table border=\"1\" class=\"dataframe\">\n",
       "  <thead>\n",
       "    <tr style=\"text-align: right;\">\n",
       "      <th></th>\n",
       "      <th>State</th>\n",
       "      <th>variant</th>\n",
       "      <th>share_max</th>\n",
       "      <th>share_first</th>\n",
       "      <th>max_date</th>\n",
       "      <th>first_date</th>\n",
       "      <th>CDC_Region</th>\n",
       "      <th>max_var_cases_per_week</th>\n",
       "      <th>first_var_cases_week</th>\n",
       "      <th>Quarter_first_cases</th>\n",
       "      <th>...</th>\n",
       "      <th>7 Region</th>\n",
       "      <th>8 Region</th>\n",
       "      <th>9 Region</th>\n",
       "      <th>Omicron</th>\n",
       "      <th>% Fair or Poor Health</th>\n",
       "      <th>% Smokers</th>\n",
       "      <th>% Adults with Obesity</th>\n",
       "      <th>% Flu Vaccinated</th>\n",
       "      <th>% Severe Housing Problems</th>\n",
       "      <th>Population_Density</th>\n",
       "    </tr>\n",
       "  </thead>\n",
       "  <tbody>\n",
       "    <tr>\n",
       "      <th>0</th>\n",
       "      <td>Alabama</td>\n",
       "      <td>B.1.1.529</td>\n",
       "      <td>0.255104</td>\n",
       "      <td>0.007616</td>\n",
       "      <td>1/22/22</td>\n",
       "      <td>12/4/21</td>\n",
       "      <td>4</td>\n",
       "      <td>29658.174650</td>\n",
       "      <td>23.342629</td>\n",
       "      <td>4</td>\n",
       "      <td>...</td>\n",
       "      <td>0</td>\n",
       "      <td>0</td>\n",
       "      <td>0</td>\n",
       "      <td>1</td>\n",
       "      <td>21.410189</td>\n",
       "      <td>21.092716</td>\n",
       "      <td>36.3</td>\n",
       "      <td>42</td>\n",
       "      <td>13.685917</td>\n",
       "      <td>99.513163</td>\n",
       "    </tr>\n",
       "    <tr>\n",
       "      <th>1</th>\n",
       "      <td>Alabama</td>\n",
       "      <td>B.1.617.2</td>\n",
       "      <td>0.984046</td>\n",
       "      <td>0.006657</td>\n",
       "      <td>9/4/21</td>\n",
       "      <td>4/24/21</td>\n",
       "      <td>4</td>\n",
       "      <td>32504.999020</td>\n",
       "      <td>25.657797</td>\n",
       "      <td>2</td>\n",
       "      <td>...</td>\n",
       "      <td>0</td>\n",
       "      <td>0</td>\n",
       "      <td>0</td>\n",
       "      <td>0</td>\n",
       "      <td>21.410189</td>\n",
       "      <td>21.092716</td>\n",
       "      <td>36.3</td>\n",
       "      <td>42</td>\n",
       "      <td>13.685917</td>\n",
       "      <td>99.513163</td>\n",
       "    </tr>\n",
       "    <tr>\n",
       "      <th>2</th>\n",
       "      <td>Alabama</td>\n",
       "      <td>BA.1.1</td>\n",
       "      <td>0.735191</td>\n",
       "      <td>0.006385</td>\n",
       "      <td>1/22/22</td>\n",
       "      <td>12/4/21</td>\n",
       "      <td>4</td>\n",
       "      <td>85472.534430</td>\n",
       "      <td>19.569541</td>\n",
       "      <td>4</td>\n",
       "      <td>...</td>\n",
       "      <td>0</td>\n",
       "      <td>0</td>\n",
       "      <td>0</td>\n",
       "      <td>1</td>\n",
       "      <td>21.410189</td>\n",
       "      <td>21.092716</td>\n",
       "      <td>36.3</td>\n",
       "      <td>42</td>\n",
       "      <td>13.685917</td>\n",
       "      <td>99.513163</td>\n",
       "    </tr>\n",
       "    <tr>\n",
       "      <th>3</th>\n",
       "      <td>Alabama</td>\n",
       "      <td>BA.2</td>\n",
       "      <td>0.733301</td>\n",
       "      <td>0.001973</td>\n",
       "      <td>4/2/22</td>\n",
       "      <td>1/8/22</td>\n",
       "      <td>4</td>\n",
       "      <td>2086.240790</td>\n",
       "      <td>136.665702</td>\n",
       "      <td>1</td>\n",
       "      <td>...</td>\n",
       "      <td>0</td>\n",
       "      <td>0</td>\n",
       "      <td>0</td>\n",
       "      <td>1</td>\n",
       "      <td>21.410189</td>\n",
       "      <td>21.092716</td>\n",
       "      <td>36.3</td>\n",
       "      <td>42</td>\n",
       "      <td>13.685917</td>\n",
       "      <td>99.513163</td>\n",
       "    </tr>\n",
       "    <tr>\n",
       "      <th>4</th>\n",
       "      <td>Alabama</td>\n",
       "      <td>BA.2.12.1</td>\n",
       "      <td>0.579754</td>\n",
       "      <td>0.000658</td>\n",
       "      <td>6/11/22</td>\n",
       "      <td>1/8/22</td>\n",
       "      <td>4</td>\n",
       "      <td>4830.511278</td>\n",
       "      <td>45.555234</td>\n",
       "      <td>1</td>\n",
       "      <td>...</td>\n",
       "      <td>0</td>\n",
       "      <td>0</td>\n",
       "      <td>0</td>\n",
       "      <td>1</td>\n",
       "      <td>21.410189</td>\n",
       "      <td>21.092716</td>\n",
       "      <td>36.3</td>\n",
       "      <td>42</td>\n",
       "      <td>13.685917</td>\n",
       "      <td>99.513163</td>\n",
       "    </tr>\n",
       "  </tbody>\n",
       "</table>\n",
       "<p>5 rows × 56 columns</p>\n",
       "</div>"
      ],
      "text/plain": [
       "     State    variant  share_max  share_first max_date first_date  CDC_Region  \\\n",
       "0  Alabama  B.1.1.529   0.255104     0.007616  1/22/22    12/4/21           4   \n",
       "1  Alabama  B.1.617.2   0.984046     0.006657   9/4/21    4/24/21           4   \n",
       "2  Alabama     BA.1.1   0.735191     0.006385  1/22/22    12/4/21           4   \n",
       "3  Alabama       BA.2   0.733301     0.001973   4/2/22     1/8/22           4   \n",
       "4  Alabama  BA.2.12.1   0.579754     0.000658  6/11/22     1/8/22           4   \n",
       "\n",
       "   max_var_cases_per_week  first_var_cases_week  Quarter_first_cases  ...  \\\n",
       "0            29658.174650             23.342629                    4  ...   \n",
       "1            32504.999020             25.657797                    2  ...   \n",
       "2            85472.534430             19.569541                    4  ...   \n",
       "3             2086.240790            136.665702                    1  ...   \n",
       "4             4830.511278             45.555234                    1  ...   \n",
       "\n",
       "   7 Region 8 Region  9 Region  Omicron  % Fair or Poor Health  % Smokers  \\\n",
       "0         0        0         0        1              21.410189  21.092716   \n",
       "1         0        0         0        0              21.410189  21.092716   \n",
       "2         0        0         0        1              21.410189  21.092716   \n",
       "3         0        0         0        1              21.410189  21.092716   \n",
       "4         0        0         0        1              21.410189  21.092716   \n",
       "\n",
       "   % Adults with Obesity  % Flu Vaccinated  % Severe Housing Problems  \\\n",
       "0                   36.3                42                  13.685917   \n",
       "1                   36.3                42                  13.685917   \n",
       "2                   36.3                42                  13.685917   \n",
       "3                   36.3                42                  13.685917   \n",
       "4                   36.3                42                  13.685917   \n",
       "\n",
       "   Population_Density  \n",
       "0           99.513163  \n",
       "1           99.513163  \n",
       "2           99.513163  \n",
       "3           99.513163  \n",
       "4           99.513163  \n",
       "\n",
       "[5 rows x 56 columns]"
      ]
     },
     "execution_count": 3,
     "metadata": {},
     "output_type": "execute_result"
    }
   ],
   "source": [
    "df.head()"
   ]
  },
  {
   "cell_type": "code",
   "execution_count": 4,
   "id": "70a7c4d2",
   "metadata": {},
   "outputs": [
    {
     "data": {
      "text/plain": [
       "(408, 56)"
      ]
     },
     "execution_count": 4,
     "metadata": {},
     "output_type": "execute_result"
    }
   ],
   "source": [
    "df.shape"
   ]
  },
  {
   "cell_type": "code",
   "execution_count": 5,
   "id": "32c8caa1",
   "metadata": {},
   "outputs": [],
   "source": [
    "#create split using group shuffle to keep state together\n",
    "gss=GroupShuffleSplit(n_splits=2, train_size=.8, random_state=42)\n",
    "\n",
    "#column to group by\n",
    "split = gss.split(df, groups=df['state_group'])\n",
    "\n",
    "#splitting testing and training indexes\n",
    "train_inds, test_inds = next(split)\n",
    "\n",
    "#test and train dfs split by state\n",
    "train=df.iloc[train_inds].copy()\n",
    "test=df.iloc[test_inds].copy()"
   ]
  },
  {
   "cell_type": "code",
   "execution_count": 6,
   "id": "547f4f90",
   "metadata": {},
   "outputs": [
    {
     "name": "stdout",
     "output_type": "stream",
     "text": [
      "(320, 56)\n"
     ]
    },
    {
     "data": {
      "text/plain": [
       "(88, 56)"
      ]
     },
     "execution_count": 6,
     "metadata": {},
     "output_type": "execute_result"
    }
   ],
   "source": [
    "print(train.shape)\n",
    "test.shape"
   ]
  },
  {
   "cell_type": "code",
   "execution_count": 7,
   "id": "067481db",
   "metadata": {},
   "outputs": [],
   "source": [
    "#create y test & train data\n",
    "y_test = np.array(test['diff_weeks'])\n",
    "y_train = np.array(train['diff_weeks'])"
   ]
  },
  {
   "cell_type": "code",
   "execution_count": 8,
   "id": "4bf13b5b",
   "metadata": {},
   "outputs": [],
   "source": [
    "#create x test and train data\n",
    "x_test = test.iloc[:,-42:]\n",
    "x_train = train.iloc[:,-42:]"
   ]
  },
  {
   "cell_type": "code",
   "execution_count": 9,
   "id": "058e446d",
   "metadata": {},
   "outputs": [],
   "source": [
    "#array of the group column\n",
    "group_train=np.array(train['state_group'])"
   ]
  },
  {
   "cell_type": "code",
   "execution_count": 10,
   "id": "fcedcbe1",
   "metadata": {},
   "outputs": [],
   "source": [
    "rf = RandomForestRegressor()\n",
    "rf.fit(x_train, y_train)\n",
    "preds = rf.predict(x_test)"
   ]
  },
  {
   "cell_type": "code",
   "execution_count": 11,
   "id": "3828e9d1",
   "metadata": {},
   "outputs": [
    {
     "name": "stdout",
     "output_type": "stream",
     "text": [
      "MAE: 2.4295454545454547\n",
      "MSE: 12.87135\n",
      "RMSE: 3.5876663724488096\n"
     ]
    }
   ],
   "source": [
    "#evaluation metrics\n",
    "\n",
    "print(\"MAE:\", mean_absolute_error(y_test, preds))\n",
    "print(\"MSE:\", mean_squared_error(y_test, preds))\n",
    "print(\"RMSE:\", math.sqrt(mean_squared_error(y_test, preds)))"
   ]
  },
  {
   "cell_type": "code",
   "execution_count": 12,
   "id": "2b2458e3",
   "metadata": {},
   "outputs": [
    {
     "name": "stdout",
     "output_type": "stream",
     "text": [
      "{'max_depth': 60, 'min_samples_leaf': 10, 'n_estimators': 50}\n"
     ]
    }
   ],
   "source": [
    "#grid search for best parameters using group kfold to keep the states grouped together in testing and training.\n",
    "#score to minimize is RMSE\n",
    "\n",
    "rf = RandomForestRegressor()\n",
    "grid_values = {'n_estimators' : [ 30, 40, 50,60,70,80,90], 'max_depth': [10,20,30,40,50,60], 'min_samples_leaf':[10,20,30,40,50]}\n",
    "gkf=GroupKFold(n_splits=5).split(x_train, y_train,group_train )\n",
    "grid_rf = GridSearchCV(rf, param_grid = grid_values, scoring = 'neg_root_mean_squared_error', cv=gkf)\n",
    "result=grid_rf.fit(x_train, y_train )\n",
    "print(grid_rf.best_params_)"
   ]
  },
  {
   "cell_type": "code",
   "execution_count": 13,
   "id": "6e3dbdbe",
   "metadata": {},
   "outputs": [],
   "source": [
    "#predicting test data using best parameters from grid search\n",
    "tuned_preds = grid_rf.predict(x_test)"
   ]
  },
  {
   "cell_type": "code",
   "execution_count": 14,
   "id": "4bc337d2",
   "metadata": {},
   "outputs": [
    {
     "name": "stdout",
     "output_type": "stream",
     "text": [
      "MAE: 2.688738578410062\n",
      "MSE: 13.867130063513317\n",
      "RMSE: 3.7238595654929467\n"
     ]
    }
   ],
   "source": [
    "#evaluation metrics of predictions using best parameters from grid search\n",
    "\n",
    "print(\"MAE:\", mean_absolute_error(y_test, tuned_preds))\n",
    "print(\"MSE:\", mean_squared_error(y_test, tuned_preds))\n",
    "print(\"RMSE:\", math.sqrt(mean_squared_error(y_test, tuned_preds)))"
   ]
  },
  {
   "cell_type": "code",
   "execution_count": 31,
   "id": "1d062535",
   "metadata": {},
   "outputs": [
    {
     "name": "stdout",
     "output_type": "stream",
     "text": [
      "{'max_depth': 10, 'n_estimators': 30}\n"
     ]
    }
   ],
   "source": [
    "#grid search for best parameters using group kfold to keep the states grouped together in testing and training.\n",
    "#score to minimize is RMSE\n",
    "\n",
    "rf = RandomForestRegressor()\n",
    "grid_values = {'n_estimators' : [ 30, 40, 50,60,70,80,90], 'max_depth': [10,20,30,40,50,60]}\n",
    "gkf=GroupKFold(n_splits=5).split(x_train, y_train,group_train )\n",
    "grid_rf = GridSearchCV(rf, param_grid = grid_values, scoring = 'neg_root_mean_squared_error', cv=gkf)\n",
    "result=grid_rf.fit(x_train, y_train )\n",
    "print(grid_rf.best_params_)"
   ]
  },
  {
   "cell_type": "code",
   "execution_count": 32,
   "id": "4a5522dd",
   "metadata": {},
   "outputs": [],
   "source": [
    "#predicting test data using best parameters from grid search\n",
    "tuned_preds = grid_rf.predict(x_test)"
   ]
  },
  {
   "cell_type": "code",
   "execution_count": 33,
   "id": "03ce72e0",
   "metadata": {},
   "outputs": [
    {
     "name": "stdout",
     "output_type": "stream",
     "text": [
      "MAE: 2.413920496237742\n",
      "MSE: 12.53234994242647\n",
      "RMSE: 3.5401059224868496\n"
     ]
    }
   ],
   "source": [
    "#evaluation metrics of predictions using best parameters from grid search\n",
    "\n",
    "print(\"MAE:\", mean_absolute_error(y_test, tuned_preds))\n",
    "print(\"MSE:\", mean_squared_error(y_test, tuned_preds))\n",
    "print(\"RMSE:\", math.sqrt(mean_squared_error(y_test, tuned_preds)))"
   ]
  },
  {
   "cell_type": "code",
   "execution_count": 23,
   "id": "2eb44ba1",
   "metadata": {},
   "outputs": [
    {
     "name": "stdout",
     "output_type": "stream",
     "text": [
      "MAE: 2.465909090909091\n",
      "MSE: 15.375\n",
      "RMSE: 3.9210967853395307\n"
     ]
    }
   ],
   "source": [
    "#run xtree no parameters\n",
    "xtree = ExtraTreeRegressor(random_state=0)\n",
    "xtree.fit(x_train, y_train )\n",
    "preds = xtree.predict(x_test)\n",
    "#evaluation metrics\n",
    "\n",
    "print(\"MAE:\", mean_absolute_error(y_test, preds))\n",
    "print(\"MSE:\", mean_squared_error(y_test, preds))\n",
    "print(\"RMSE:\", math.sqrt(mean_squared_error(y_test, preds)))"
   ]
  },
  {
   "cell_type": "code",
   "execution_count": 20,
   "id": "3d609947",
   "metadata": {},
   "outputs": [
    {
     "name": "stdout",
     "output_type": "stream",
     "text": [
      "{'max_leaf_nodes': 30, 'min_samples_split': 5, 'splitter': 'random'}\n"
     ]
    }
   ],
   "source": [
    "#grid search for best parameters using group kfold to keep the states grouped together in testing and training.\n",
    "#score to minimize is RMSE\n",
    "xtree = ExtraTreeRegressor(random_state=0)\n",
    "param = {'max_leaf_nodes': [10,20, 30, 40, 50,60,70 ], 'min_samples_split': [2,3,4,5,6], 'splitter':['best','random']}\n",
    "#param = {'max_leaf_nodes': [3,6,9,12,15], 'min_samples_split': [2,3,4,5,6]}\n",
    "gkf=GroupKFold(n_splits=5).split(x_train, y_train,group_train )\n",
    "gridxtree = GridSearchCV(xtree, param_grid = param, scoring = 'neg_root_mean_squared_error', cv=gkf)\n",
    "result=gridxtree.fit(x_train, y_train )\n",
    "print(gridxtree.best_params_)"
   ]
  },
  {
   "cell_type": "code",
   "execution_count": 29,
   "id": "a6c6ea52",
   "metadata": {},
   "outputs": [],
   "source": [
    "#predicting test data using best parameters from grid search\n",
    "tree_tuned_preds = gridxtree.predict(x_test)"
   ]
  },
  {
   "cell_type": "code",
   "execution_count": 30,
   "id": "fa9b7edb",
   "metadata": {},
   "outputs": [
    {
     "name": "stdout",
     "output_type": "stream",
     "text": [
      "MAE: 2.423915283992156\n",
      "MSE: 12.683456483925534\n",
      "RMSE: 3.5613840685786102\n"
     ]
    }
   ],
   "source": [
    "#evaluation metrics of predictions using best parameters from grid search\n",
    "\n",
    "print(\"MAE:\", mean_absolute_error(y_test, tree_tuned_preds))\n",
    "print(\"MSE:\", mean_squared_error(y_test, tree_tuned_preds))\n",
    "print(\"RMSE:\", math.sqrt(mean_squared_error(y_test, tree_tuned_preds)))"
   ]
  },
  {
   "cell_type": "code",
   "execution_count": 34,
   "id": "e0811086",
   "metadata": {},
   "outputs": [],
   "source": [
    "#SVR"
   ]
  },
  {
   "cell_type": "code",
   "execution_count": 37,
   "id": "efc7cea5",
   "metadata": {},
   "outputs": [],
   "source": [
    "from sklearn.svm import SVR\n",
    "from sklearn.preprocessing import StandardScaler, MinMaxScaler"
   ]
  },
  {
   "cell_type": "code",
   "execution_count": 38,
   "id": "41a97918",
   "metadata": {},
   "outputs": [],
   "source": [
    "scale = MinMaxScaler()\n",
    "x_train2 = scale.fit_transform(x_train)\n",
    "x_test2 = scale.fit_transform(x_test)"
   ]
  },
  {
   "cell_type": "code",
   "execution_count": 39,
   "id": "ab6d08c0",
   "metadata": {},
   "outputs": [
    {
     "data": {
      "text/plain": [
       "SVR()"
      ]
     },
     "execution_count": 39,
     "metadata": {},
     "output_type": "execute_result"
    }
   ],
   "source": [
    "svr=SVR()\n",
    "svr.fit(x_train2, y_train)"
   ]
  },
  {
   "cell_type": "code",
   "execution_count": 40,
   "id": "7a3b63f0",
   "metadata": {},
   "outputs": [],
   "source": [
    "SVRpreds = svr.predict(x_test2)"
   ]
  },
  {
   "cell_type": "code",
   "execution_count": 41,
   "id": "35fc8341",
   "metadata": {},
   "outputs": [
    {
     "name": "stdout",
     "output_type": "stream",
     "text": [
      "MAE: 4.328296159137\n",
      "MSE: 37.206820315334234\n",
      "RMSE: 6.099739364541262\n"
     ]
    }
   ],
   "source": [
    "#evaluation metrics\n",
    "print(\"MAE:\", mean_absolute_error(y_test, SVRpreds))\n",
    "print(\"MSE:\", mean_squared_error(y_test, SVRpreds))\n",
    "print(\"RMSE:\", math.sqrt(mean_squared_error(y_test, SVRpreds)))"
   ]
  },
  {
   "cell_type": "code",
   "execution_count": 44,
   "id": "9c28e554",
   "metadata": {},
   "outputs": [
    {
     "name": "stdout",
     "output_type": "stream",
     "text": [
      "{'svr__degree': 1, 'svr__gamma': 'scale', 'svr__kernel': 'linear'}\n"
     ]
    }
   ],
   "source": [
    "#grid search for best parameters using group kfold to keep the states grouped together in testing and training.\n",
    "#score to minimize is RMSE\n",
    "#make pipeline for scaling\n",
    "make_pipe = make_pipeline(scale, SVR())\n",
    "#param = {'kernel':['poly','rbf','linear'],'degree':[1,2,3,4,5], 'gamma':[0.1,0.025,0.05,0.01]}\n",
    "param = {'svr__kernel':['poly','rbf','linear'],'svr__degree':[1,2,3,4,5],'svr__gamma':['scale', 'auto']}\n",
    "gkf=GroupKFold(n_splits=5).split(x_train, y_train,group_train )\n",
    "gridsvr = GridSearchCV(make_pipe, param_grid = param, scoring = 'neg_root_mean_squared_error', cv=gkf)\n",
    "result=gridsvr.fit(x_train, y_train )\n",
    "print(gridsvr.best_params_)"
   ]
  },
  {
   "cell_type": "code",
   "execution_count": 45,
   "id": "c36bb181",
   "metadata": {},
   "outputs": [],
   "source": [
    "#predicting test data using best parameters from grid search\n",
    "SVR_tuned_preds = gridsvr.predict(x_test)"
   ]
  },
  {
   "cell_type": "code",
   "execution_count": 46,
   "id": "906e7b20",
   "metadata": {},
   "outputs": [
    {
     "name": "stdout",
     "output_type": "stream",
     "text": [
      "MAE: 3.5997636813127163\n",
      "MSE: 23.842655125324406\n",
      "RMSE: 4.882894134150812\n"
     ]
    }
   ],
   "source": [
    "#evaluation metrics of predictions using best parameters from grid search\n",
    "\n",
    "print(\"MAE:\", mean_absolute_error(y_test, SVR_tuned_preds))\n",
    "print(\"MSE:\", mean_squared_error(y_test, SVR_tuned_preds))\n",
    "print(\"RMSE:\", math.sqrt(mean_squared_error(y_test, SVR_tuned_preds)))"
   ]
  },
  {
   "cell_type": "code",
   "execution_count": 47,
   "id": "92b9c07f",
   "metadata": {},
   "outputs": [],
   "source": [
    "#SVM with Feature Tuning"
   ]
  },
  {
   "cell_type": "code",
   "execution_count": 58,
   "id": "40ff5947",
   "metadata": {},
   "outputs": [],
   "source": [
    "#drop correlated features\n",
    "x_test_no_corr = x_test.drop(['Mutation Fitness', '#_Public_Airports' ,'#_business_establishments','Miles freight railroad','Miles passenger railroad' ,'PovertyRate'], axis=1)\n",
    "x_train_no_corr = x_train.drop(['Mutation Fitness', '#_Public_Airports' , '#_business_establishments','Miles freight railroad','Miles passenger railroad' ,'PovertyRate'], axis=1)"
   ]
  },
  {
   "cell_type": "code",
   "execution_count": 59,
   "id": "fb17574c",
   "metadata": {},
   "outputs": [],
   "source": [
    "scale = MinMaxScaler()\n",
    "x_train3 = scale.fit_transform(x_train_no_corr)\n",
    "x_test3 = scale.fit_transform(x_test_no_corr)"
   ]
  },
  {
   "cell_type": "code",
   "execution_count": 60,
   "id": "502e0101",
   "metadata": {},
   "outputs": [],
   "source": [
    "svr=SVR()\n",
    "svr.fit(x_train3, y_train)\n",
    "SVRpreds = svr.predict(x_test3)"
   ]
  },
  {
   "cell_type": "code",
   "execution_count": 61,
   "id": "4fad15cf",
   "metadata": {
    "scrolled": true
   },
   "outputs": [
    {
     "name": "stdout",
     "output_type": "stream",
     "text": [
      "MAE: 4.159786625949457\n",
      "MSE: 35.609947012259134\n",
      "RMSE: 5.96740705937337\n"
     ]
    }
   ],
   "source": [
    "#evaluation metrics\n",
    "print(\"MAE:\", mean_absolute_error(y_test, SVRpreds))\n",
    "print(\"MSE:\", mean_squared_error(y_test, SVRpreds))\n",
    "print(\"RMSE:\", math.sqrt(mean_squared_error(y_test, SVRpreds)))"
   ]
  },
  {
   "cell_type": "code",
   "execution_count": 62,
   "id": "b2f882b4",
   "metadata": {},
   "outputs": [
    {
     "name": "stdout",
     "output_type": "stream",
     "text": [
      "{'svr__degree': 2, 'svr__gamma': 'scale', 'svr__kernel': 'poly'}\n"
     ]
    }
   ],
   "source": [
    "#grid search for best parameters using group kfold to keep the states grouped together in testing and training.\n",
    "#score to minimize is RMSE\n",
    "#make pipeline for scaling\n",
    "make_pipe = make_pipeline(scale, SVR())\n",
    "#param = {'kernel':['poly','rbf','linear'],'degree':[1,2,3,4,5], 'gamma':[0.1,0.025,0.05,0.01]}\n",
    "param = {'svr__kernel':['poly','rbf','linear'],'svr__degree':[1,2,3,4,5],'svr__gamma':['scale', 'auto']}\n",
    "gkf=GroupKFold(n_splits=5).split(x_train_no_corr, y_train,group_train )\n",
    "gridsvr = GridSearchCV(make_pipe, param_grid = param, scoring = 'neg_root_mean_squared_error', cv=gkf)\n",
    "result=gridsvr.fit(x_train_no_corr, y_train )\n",
    "print(gridsvr.best_params_)"
   ]
  },
  {
   "cell_type": "code",
   "execution_count": 63,
   "id": "d7878b08",
   "metadata": {},
   "outputs": [],
   "source": [
    "#predicting test data using best parameters from grid search\n",
    "SVR_tuned_preds = gridsvr.predict(x_test_no_corr)"
   ]
  },
  {
   "cell_type": "code",
   "execution_count": 64,
   "id": "3acf15d9",
   "metadata": {},
   "outputs": [
    {
     "name": "stdout",
     "output_type": "stream",
     "text": [
      "MAE: 3.5672818424592965\n",
      "MSE: 26.118154122831683\n",
      "RMSE: 5.110592345592797\n"
     ]
    }
   ],
   "source": [
    "#evaluation metrics of predictions using best parameters from grid search\n",
    "\n",
    "print(\"MAE:\", mean_absolute_error(y_test, SVR_tuned_preds))\n",
    "print(\"MSE:\", mean_squared_error(y_test, SVR_tuned_preds))\n",
    "print(\"RMSE:\", math.sqrt(mean_squared_error(y_test, SVR_tuned_preds)))"
   ]
  },
  {
   "cell_type": "code",
   "execution_count": null,
   "id": "9ffeea16",
   "metadata": {},
   "outputs": [],
   "source": []
  }
 ],
 "metadata": {
  "kernelspec": {
   "display_name": "Python 3",
   "language": "python",
   "name": "python3"
  },
  "language_info": {
   "codemirror_mode": {
    "name": "ipython",
    "version": 3
   },
   "file_extension": ".py",
   "mimetype": "text/x-python",
   "name": "python",
   "nbconvert_exporter": "python",
   "pygments_lexer": "ipython3",
   "version": "3.8.8"
  }
 },
 "nbformat": 4,
 "nbformat_minor": 5
}
